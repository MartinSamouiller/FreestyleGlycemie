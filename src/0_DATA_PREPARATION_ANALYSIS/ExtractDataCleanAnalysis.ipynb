{
 "cells": [
  {
   "cell_type": "code",
   "execution_count": 134,
   "metadata": {},
   "outputs": [],
   "source": [
    "import numpy as np\n",
    "import pandas as pd\n",
    "import os\n",
    "\n",
    "import matplotlib.pyplot as plt\n",
    "plt.style.use('seaborn-white')\n",
    "%matplotlib inline\n",
    "\n",
    "import seaborn as sns\n",
    "from datetime import datetime, timedelta"
   ]
  },
  {
   "cell_type": "code",
   "execution_count": 135,
   "metadata": {},
   "outputs": [
    {
     "name": "stdout",
     "output_type": "stream",
     "text": [
      "['.DS_Store', 'fitbit', 'glucose_12-10-2019_export.csv', '.ipynb_checkpoints']\n"
     ]
    },
    {
     "data": {
      "text/html": [
       "<div>\n",
       "<style scoped>\n",
       "    .dataframe tbody tr th:only-of-type {\n",
       "        vertical-align: middle;\n",
       "    }\n",
       "\n",
       "    .dataframe tbody tr th {\n",
       "        vertical-align: top;\n",
       "    }\n",
       "\n",
       "    .dataframe thead th {\n",
       "        text-align: right;\n",
       "    }\n",
       "</style>\n",
       "<table border=\"1\" class=\"dataframe\">\n",
       "  <thead>\n",
       "    <tr style=\"text-align: right;\">\n",
       "      <th></th>\n",
       "      <th>Horodatage de l'appareil</th>\n",
       "      <th>Type d'enregistrement</th>\n",
       "      <th>Historique de la glycémie mg/dL</th>\n",
       "      <th>Numérisation de la glycémie mg/dL</th>\n",
       "      <th>Insuline à action rapide sans valeur numérique</th>\n",
       "      <th>Insuline à action rapide (unités)</th>\n",
       "      <th>Alimentation sans valeur numérique</th>\n",
       "      <th>Glucides (grammes)</th>\n",
       "      <th>Glucides (portions)</th>\n",
       "      <th>Insuline à action longue sans valeur numérique</th>\n",
       "      <th>Insuline à action longue (unités)</th>\n",
       "      <th>Remarques</th>\n",
       "      <th>Glycémie par bandelette mg/dL</th>\n",
       "      <th>Cétone mmol/L</th>\n",
       "      <th>Insuline repas (unités)</th>\n",
       "      <th>Correction insuline (unités)</th>\n",
       "      <th>Insuline modifiée par l'utilisateur (unités)</th>\n",
       "    </tr>\n",
       "  </thead>\n",
       "  <tbody>\n",
       "    <tr>\n",
       "      <th>0</th>\n",
       "      <td>12-04-2019 02:26 PM</td>\n",
       "      <td>6</td>\n",
       "      <td>NaN</td>\n",
       "      <td>NaN</td>\n",
       "      <td>NaN</td>\n",
       "      <td>NaN</td>\n",
       "      <td>NaN</td>\n",
       "      <td>NaN</td>\n",
       "      <td>NaN</td>\n",
       "      <td>NaN</td>\n",
       "      <td>NaN</td>\n",
       "      <td>NaN</td>\n",
       "      <td>NaN</td>\n",
       "      <td>NaN</td>\n",
       "      <td>NaN</td>\n",
       "      <td>NaN</td>\n",
       "      <td>NaN</td>\n",
       "    </tr>\n",
       "    <tr>\n",
       "      <th>1</th>\n",
       "      <td>12-04-2019 02:27 PM</td>\n",
       "      <td>6</td>\n",
       "      <td>NaN</td>\n",
       "      <td>NaN</td>\n",
       "      <td>NaN</td>\n",
       "      <td>NaN</td>\n",
       "      <td>NaN</td>\n",
       "      <td>NaN</td>\n",
       "      <td>NaN</td>\n",
       "      <td>NaN</td>\n",
       "      <td>NaN</td>\n",
       "      <td>NaN</td>\n",
       "      <td>NaN</td>\n",
       "      <td>NaN</td>\n",
       "      <td>NaN</td>\n",
       "      <td>NaN</td>\n",
       "      <td>NaN</td>\n",
       "    </tr>\n",
       "    <tr>\n",
       "      <th>2</th>\n",
       "      <td>12-04-2019 03:16 PM</td>\n",
       "      <td>6</td>\n",
       "      <td>NaN</td>\n",
       "      <td>NaN</td>\n",
       "      <td>NaN</td>\n",
       "      <td>NaN</td>\n",
       "      <td>NaN</td>\n",
       "      <td>NaN</td>\n",
       "      <td>NaN</td>\n",
       "      <td>NaN</td>\n",
       "      <td>NaN</td>\n",
       "      <td>NaN</td>\n",
       "      <td>NaN</td>\n",
       "      <td>NaN</td>\n",
       "      <td>NaN</td>\n",
       "      <td>NaN</td>\n",
       "      <td>NaN</td>\n",
       "    </tr>\n",
       "    <tr>\n",
       "      <th>3</th>\n",
       "      <td>12-04-2019 03:17 PM</td>\n",
       "      <td>6</td>\n",
       "      <td>NaN</td>\n",
       "      <td>NaN</td>\n",
       "      <td>NaN</td>\n",
       "      <td>NaN</td>\n",
       "      <td>NaN</td>\n",
       "      <td>NaN</td>\n",
       "      <td>NaN</td>\n",
       "      <td>NaN</td>\n",
       "      <td>NaN</td>\n",
       "      <td>NaN</td>\n",
       "      <td>NaN</td>\n",
       "      <td>NaN</td>\n",
       "      <td>NaN</td>\n",
       "      <td>NaN</td>\n",
       "      <td>NaN</td>\n",
       "    </tr>\n",
       "    <tr>\n",
       "      <th>4</th>\n",
       "      <td>12-04-2019 05:15 PM</td>\n",
       "      <td>6</td>\n",
       "      <td>NaN</td>\n",
       "      <td>NaN</td>\n",
       "      <td>NaN</td>\n",
       "      <td>NaN</td>\n",
       "      <td>NaN</td>\n",
       "      <td>NaN</td>\n",
       "      <td>NaN</td>\n",
       "      <td>NaN</td>\n",
       "      <td>NaN</td>\n",
       "      <td>NaN</td>\n",
       "      <td>NaN</td>\n",
       "      <td>NaN</td>\n",
       "      <td>NaN</td>\n",
       "      <td>NaN</td>\n",
       "      <td>NaN</td>\n",
       "    </tr>\n",
       "  </tbody>\n",
       "</table>\n",
       "</div>"
      ],
      "text/plain": [
       "  Horodatage de l'appareil  Type d'enregistrement  \\\n",
       "0      12-04-2019 02:26 PM                      6   \n",
       "1      12-04-2019 02:27 PM                      6   \n",
       "2      12-04-2019 03:16 PM                      6   \n",
       "3      12-04-2019 03:17 PM                      6   \n",
       "4      12-04-2019 05:15 PM                      6   \n",
       "\n",
       "   Historique de la glycémie mg/dL  Numérisation de la glycémie mg/dL  \\\n",
       "0                              NaN                                NaN   \n",
       "1                              NaN                                NaN   \n",
       "2                              NaN                                NaN   \n",
       "3                              NaN                                NaN   \n",
       "4                              NaN                                NaN   \n",
       "\n",
       "   Insuline à action rapide sans valeur numérique  \\\n",
       "0                                             NaN   \n",
       "1                                             NaN   \n",
       "2                                             NaN   \n",
       "3                                             NaN   \n",
       "4                                             NaN   \n",
       "\n",
       "   Insuline à action rapide (unités)  Alimentation sans valeur numérique  \\\n",
       "0                                NaN                                 NaN   \n",
       "1                                NaN                                 NaN   \n",
       "2                                NaN                                 NaN   \n",
       "3                                NaN                                 NaN   \n",
       "4                                NaN                                 NaN   \n",
       "\n",
       "   Glucides (grammes)  Glucides (portions)  \\\n",
       "0                 NaN                  NaN   \n",
       "1                 NaN                  NaN   \n",
       "2                 NaN                  NaN   \n",
       "3                 NaN                  NaN   \n",
       "4                 NaN                  NaN   \n",
       "\n",
       "   Insuline à action longue sans valeur numérique  \\\n",
       "0                                             NaN   \n",
       "1                                             NaN   \n",
       "2                                             NaN   \n",
       "3                                             NaN   \n",
       "4                                             NaN   \n",
       "\n",
       "   Insuline à action longue (unités) Remarques  Glycémie par bandelette mg/dL  \\\n",
       "0                                NaN       NaN                            NaN   \n",
       "1                                NaN       NaN                            NaN   \n",
       "2                                NaN       NaN                            NaN   \n",
       "3                                NaN       NaN                            NaN   \n",
       "4                                NaN       NaN                            NaN   \n",
       "\n",
       "   Cétone mmol/L  Insuline repas (unités)  Correction insuline (unités)  \\\n",
       "0            NaN                      NaN                           NaN   \n",
       "1            NaN                      NaN                           NaN   \n",
       "2            NaN                      NaN                           NaN   \n",
       "3            NaN                      NaN                           NaN   \n",
       "4            NaN                      NaN                           NaN   \n",
       "\n",
       "   Insuline modifiée par l'utilisateur (unités)  \n",
       "0                                           NaN  \n",
       "1                                           NaN  \n",
       "2                                           NaN  \n",
       "3                                           NaN  \n",
       "4                                           NaN  "
      ]
     },
     "execution_count": 135,
     "metadata": {},
     "output_type": "execute_result"
    }
   ],
   "source": [
    "#Lister les data presentent dans le dossier\n",
    "#Lecture des données \n",
    "\n",
    "path_data = '../../data/'\n",
    "\n",
    "print(os.listdir(path_data))\n",
    "\n",
    "path_ = path_data + 'glucose_12-10-2019_export.csv'\n",
    "\n",
    "df_full = pd.read_csv(path_, sep=';')\n",
    "\n",
    "df_full.head(5)"
   ]
  },
  {
   "cell_type": "code",
   "execution_count": 136,
   "metadata": {},
   "outputs": [],
   "source": [
    "df_full['Date'] = pd.to_datetime(df_full['Horodatage de l\\'appareil'])\n",
    "df_full['DateCp'] = df_full['Date']\n",
    "df_full = df_full.sort_values(by='Date',  ascending=False)"
   ]
  },
  {
   "cell_type": "markdown",
   "metadata": {},
   "source": [
    "### Récupération des données suivantes :\n",
    "\n",
    "- Heure du repas\n",
    "- Type de repas (dej, lunch, dinner)\n",
    "- Unité Lente (Insuline)\n",
    "- Unité Rapide (Insuline)\n",
    "- Taux de glycémie (T0)\n",
    "- Taux de glycémie (T-1H)\n",
    "- Taux de glycémie (T-2H)\n",
    "- Taux de glycémie (T-3H)\n",
    "- Taux de glycémie (T-4H)"
   ]
  },
  {
   "cell_type": "code",
   "execution_count": 137,
   "metadata": {},
   "outputs": [
    {
     "name": "stderr",
     "output_type": "stream",
     "text": [
      "//anaconda3/lib/python3.7/site-packages/ipykernel_launcher.py:14: SettingWithCopyWarning: \n",
      "A value is trying to be set on a copy of a slice from a DataFrame.\n",
      "Try using .loc[row_indexer,col_indexer] = value instead\n",
      "\n",
      "See the caveats in the documentation: http://pandas.pydata.org/pandas-docs/stable/indexing.html#indexing-view-versus-copy\n",
      "  \n",
      "//anaconda3/lib/python3.7/site-packages/ipykernel_launcher.py:18: SettingWithCopyWarning: \n",
      "A value is trying to be set on a copy of a slice from a DataFrame.\n",
      "Try using .loc[row_indexer,col_indexer] = value instead\n",
      "\n",
      "See the caveats in the documentation: http://pandas.pydata.org/pandas-docs/stable/indexing.html#indexing-view-versus-copy\n"
     ]
    }
   ],
   "source": [
    "#Extraction des données de glucose, heure de repas, et taux d'insuline en fonction des données freestyle\n",
    "df_glucose = df_full[df_full['Type d\\'enregistrement'] == 0]\n",
    "df_repas = df_full[df_full['Type d\\'enregistrement'] == 5]\n",
    "df_insuline = df_full[df_full['Type d\\'enregistrement'] == 4]\n",
    "\n",
    "df_insuline = df_insuline[['Date', 'DateCp', 'Insuline à action longue (unités)', 'Insuline à action rapide (unités)']]\n",
    "df_repas = df_repas[['Type d\\'enregistrement', 'Horodatage de l\\'appareil' , 'Date', 'DateCp']]\n",
    "\n",
    "df_glucose.set_index('Date', inplace=True)\n",
    "df_repas.set_index('Date', inplace=True)\n",
    "df_insuline.set_index('Date', inplace=True)\n",
    "\n",
    "\n",
    "df_glucose['Day'] = df_glucose['DateCp'].apply(lambda x : x.date())\n",
    "df_repas['Day'] = df_repas['DateCp'].apply(lambda x : x.date())\n",
    "df_insuline['Day'] = df_insuline['DateCp'].apply(lambda x : x.date())\n",
    "\n",
    "df_glucose['Time'] = df_glucose['DateCp'].apply(lambda x : x.time())\n",
    "df_repas['Time'] = df_repas['DateCp'].apply(lambda x : x.time())\n",
    "df_insuline['Time'] = df_insuline['DateCp'].apply(lambda x : x.time())"
   ]
  },
  {
   "cell_type": "code",
   "execution_count": 138,
   "metadata": {},
   "outputs": [],
   "source": [
    "#Pour les repas du matin et du soir on regroupe l'insuline rapide et lente\n",
    "df_insuline = df_insuline.groupby('Date').first()"
   ]
  },
  {
   "cell_type": "code",
   "execution_count": 139,
   "metadata": {},
   "outputs": [
    {
     "data": {
      "text/html": [
       "<div>\n",
       "<style scoped>\n",
       "    .dataframe tbody tr th:only-of-type {\n",
       "        vertical-align: middle;\n",
       "    }\n",
       "\n",
       "    .dataframe tbody tr th {\n",
       "        vertical-align: top;\n",
       "    }\n",
       "\n",
       "    .dataframe thead th {\n",
       "        text-align: right;\n",
       "    }\n",
       "</style>\n",
       "<table border=\"1\" class=\"dataframe\">\n",
       "  <thead>\n",
       "    <tr style=\"text-align: right;\">\n",
       "      <th></th>\n",
       "      <th>DateCp</th>\n",
       "      <th>Insuline à action longue (unités)</th>\n",
       "      <th>Insuline à action rapide (unités)</th>\n",
       "      <th>Day</th>\n",
       "      <th>Time</th>\n",
       "    </tr>\n",
       "    <tr>\n",
       "      <th>Date</th>\n",
       "      <th></th>\n",
       "      <th></th>\n",
       "      <th></th>\n",
       "      <th></th>\n",
       "      <th></th>\n",
       "    </tr>\n",
       "  </thead>\n",
       "  <tbody>\n",
       "    <tr>\n",
       "      <th>2017-03-20 12:32:00</th>\n",
       "      <td>2017-03-20 12:32:00</td>\n",
       "      <td>NaN</td>\n",
       "      <td>9.0</td>\n",
       "      <td>2017-03-20</td>\n",
       "      <td>12:32:00</td>\n",
       "    </tr>\n",
       "    <tr>\n",
       "      <th>2017-03-20 15:56:00</th>\n",
       "      <td>2017-03-20 15:56:00</td>\n",
       "      <td>NaN</td>\n",
       "      <td>2.0</td>\n",
       "      <td>2017-03-20</td>\n",
       "      <td>15:56:00</td>\n",
       "    </tr>\n",
       "    <tr>\n",
       "      <th>2017-03-20 20:38:00</th>\n",
       "      <td>2017-03-20 20:38:00</td>\n",
       "      <td>NaN</td>\n",
       "      <td>12.0</td>\n",
       "      <td>2017-03-20</td>\n",
       "      <td>20:38:00</td>\n",
       "    </tr>\n",
       "    <tr>\n",
       "      <th>2017-03-21 07:34:00</th>\n",
       "      <td>2017-03-21 07:34:00</td>\n",
       "      <td>NaN</td>\n",
       "      <td>14.0</td>\n",
       "      <td>2017-03-21</td>\n",
       "      <td>07:34:00</td>\n",
       "    </tr>\n",
       "    <tr>\n",
       "      <th>2017-03-21 12:33:00</th>\n",
       "      <td>2017-03-21 12:33:00</td>\n",
       "      <td>NaN</td>\n",
       "      <td>12.0</td>\n",
       "      <td>2017-03-21</td>\n",
       "      <td>12:33:00</td>\n",
       "    </tr>\n",
       "  </tbody>\n",
       "</table>\n",
       "</div>"
      ],
      "text/plain": [
       "                                 DateCp  Insuline à action longue (unités)  \\\n",
       "Date                                                                         \n",
       "2017-03-20 12:32:00 2017-03-20 12:32:00                                NaN   \n",
       "2017-03-20 15:56:00 2017-03-20 15:56:00                                NaN   \n",
       "2017-03-20 20:38:00 2017-03-20 20:38:00                                NaN   \n",
       "2017-03-21 07:34:00 2017-03-21 07:34:00                                NaN   \n",
       "2017-03-21 12:33:00 2017-03-21 12:33:00                                NaN   \n",
       "\n",
       "                     Insuline à action rapide (unités)         Day      Time  \n",
       "Date                                                                          \n",
       "2017-03-20 12:32:00                                9.0  2017-03-20  12:32:00  \n",
       "2017-03-20 15:56:00                                2.0  2017-03-20  15:56:00  \n",
       "2017-03-20 20:38:00                               12.0  2017-03-20  20:38:00  \n",
       "2017-03-21 07:34:00                               14.0  2017-03-21  07:34:00  \n",
       "2017-03-21 12:33:00                               12.0  2017-03-21  12:33:00  "
      ]
     },
     "execution_count": 139,
     "metadata": {},
     "output_type": "execute_result"
    }
   ],
   "source": [
    "df_insuline.head()"
   ]
  },
  {
   "cell_type": "code",
   "execution_count": 140,
   "metadata": {},
   "outputs": [],
   "source": [
    "df_repas_insuline = pd.merge(df_insuline,df_repas, how='inner', on='DateCp')\n",
    "\n",
    "df_repas_insuline.drop(['Day_x', 'Time_x', 'Type d\\'enregistrement', 'Horodatage de l\\'appareil'], axis=1, inplace=True)"
   ]
  },
  {
   "cell_type": "code",
   "execution_count": 141,
   "metadata": {},
   "outputs": [],
   "source": [
    "df_repas_insuline['Date0H'] = df_repas_insuline['DateCp']\n",
    "df_repas_insuline['Date-1H'] = df_repas_insuline['DateCp'].apply(lambda x : (x - timedelta(hours=1)))\n",
    "df_repas_insuline['Date-2H'] = df_repas_insuline['DateCp'].apply(lambda x : (x - timedelta(hours=2)))\n",
    "df_repas_insuline['Date-3H'] = df_repas_insuline['DateCp'].apply(lambda x : (x - timedelta(hours=3)))\n",
    "df_repas_insuline['Date-4H'] = df_repas_insuline['DateCp'].apply(lambda x : (x - timedelta(hours=4)))"
   ]
  },
  {
   "cell_type": "code",
   "execution_count": 142,
   "metadata": {},
   "outputs": [
    {
     "data": {
      "text/html": [
       "<div>\n",
       "<style scoped>\n",
       "    .dataframe tbody tr th:only-of-type {\n",
       "        vertical-align: middle;\n",
       "    }\n",
       "\n",
       "    .dataframe tbody tr th {\n",
       "        vertical-align: top;\n",
       "    }\n",
       "\n",
       "    .dataframe thead th {\n",
       "        text-align: right;\n",
       "    }\n",
       "</style>\n",
       "<table border=\"1\" class=\"dataframe\">\n",
       "  <thead>\n",
       "    <tr style=\"text-align: right;\">\n",
       "      <th></th>\n",
       "      <th>DateCp</th>\n",
       "      <th>Insuline à action longue (unités)</th>\n",
       "      <th>Insuline à action rapide (unités)</th>\n",
       "      <th>Day_y</th>\n",
       "      <th>Time_y</th>\n",
       "      <th>Date0H</th>\n",
       "      <th>Date-1H</th>\n",
       "      <th>Date-2H</th>\n",
       "      <th>Date-3H</th>\n",
       "      <th>Date-4H</th>\n",
       "    </tr>\n",
       "  </thead>\n",
       "  <tbody>\n",
       "    <tr>\n",
       "      <th>0</th>\n",
       "      <td>2019-06-14 09:03:00</td>\n",
       "      <td>16.0</td>\n",
       "      <td>16.0</td>\n",
       "      <td>2019-06-14</td>\n",
       "      <td>09:03:00</td>\n",
       "      <td>2019-06-14 09:03:00</td>\n",
       "      <td>2019-06-14 08:03:00</td>\n",
       "      <td>2019-06-14 07:03:00</td>\n",
       "      <td>2019-06-14 06:03:00</td>\n",
       "      <td>2019-06-14 05:03:00</td>\n",
       "    </tr>\n",
       "    <tr>\n",
       "      <th>1</th>\n",
       "      <td>2019-06-14 13:21:00</td>\n",
       "      <td>NaN</td>\n",
       "      <td>6.0</td>\n",
       "      <td>2019-06-14</td>\n",
       "      <td>13:21:00</td>\n",
       "      <td>2019-06-14 13:21:00</td>\n",
       "      <td>2019-06-14 12:21:00</td>\n",
       "      <td>2019-06-14 11:21:00</td>\n",
       "      <td>2019-06-14 10:21:00</td>\n",
       "      <td>2019-06-14 09:21:00</td>\n",
       "    </tr>\n",
       "    <tr>\n",
       "      <th>2</th>\n",
       "      <td>2019-06-15 08:52:00</td>\n",
       "      <td>14.0</td>\n",
       "      <td>13.0</td>\n",
       "      <td>2019-06-15</td>\n",
       "      <td>08:52:00</td>\n",
       "      <td>2019-06-15 08:52:00</td>\n",
       "      <td>2019-06-15 07:52:00</td>\n",
       "      <td>2019-06-15 06:52:00</td>\n",
       "      <td>2019-06-15 05:52:00</td>\n",
       "      <td>2019-06-15 04:52:00</td>\n",
       "    </tr>\n",
       "    <tr>\n",
       "      <th>3</th>\n",
       "      <td>2019-06-15 12:49:00</td>\n",
       "      <td>NaN</td>\n",
       "      <td>6.0</td>\n",
       "      <td>2019-06-15</td>\n",
       "      <td>12:49:00</td>\n",
       "      <td>2019-06-15 12:49:00</td>\n",
       "      <td>2019-06-15 11:49:00</td>\n",
       "      <td>2019-06-15 10:49:00</td>\n",
       "      <td>2019-06-15 09:49:00</td>\n",
       "      <td>2019-06-15 08:49:00</td>\n",
       "    </tr>\n",
       "    <tr>\n",
       "      <th>4</th>\n",
       "      <td>2019-06-16 08:51:00</td>\n",
       "      <td>14.0</td>\n",
       "      <td>13.0</td>\n",
       "      <td>2019-06-16</td>\n",
       "      <td>08:51:00</td>\n",
       "      <td>2019-06-16 08:51:00</td>\n",
       "      <td>2019-06-16 07:51:00</td>\n",
       "      <td>2019-06-16 06:51:00</td>\n",
       "      <td>2019-06-16 05:51:00</td>\n",
       "      <td>2019-06-16 04:51:00</td>\n",
       "    </tr>\n",
       "  </tbody>\n",
       "</table>\n",
       "</div>"
      ],
      "text/plain": [
       "               DateCp  Insuline à action longue (unités)  \\\n",
       "0 2019-06-14 09:03:00                               16.0   \n",
       "1 2019-06-14 13:21:00                                NaN   \n",
       "2 2019-06-15 08:52:00                               14.0   \n",
       "3 2019-06-15 12:49:00                                NaN   \n",
       "4 2019-06-16 08:51:00                               14.0   \n",
       "\n",
       "   Insuline à action rapide (unités)       Day_y    Time_y  \\\n",
       "0                               16.0  2019-06-14  09:03:00   \n",
       "1                                6.0  2019-06-14  13:21:00   \n",
       "2                               13.0  2019-06-15  08:52:00   \n",
       "3                                6.0  2019-06-15  12:49:00   \n",
       "4                               13.0  2019-06-16  08:51:00   \n",
       "\n",
       "               Date0H             Date-1H             Date-2H  \\\n",
       "0 2019-06-14 09:03:00 2019-06-14 08:03:00 2019-06-14 07:03:00   \n",
       "1 2019-06-14 13:21:00 2019-06-14 12:21:00 2019-06-14 11:21:00   \n",
       "2 2019-06-15 08:52:00 2019-06-15 07:52:00 2019-06-15 06:52:00   \n",
       "3 2019-06-15 12:49:00 2019-06-15 11:49:00 2019-06-15 10:49:00   \n",
       "4 2019-06-16 08:51:00 2019-06-16 07:51:00 2019-06-16 06:51:00   \n",
       "\n",
       "              Date-3H             Date-4H  \n",
       "0 2019-06-14 06:03:00 2019-06-14 05:03:00  \n",
       "1 2019-06-14 10:21:00 2019-06-14 09:21:00  \n",
       "2 2019-06-15 05:52:00 2019-06-15 04:52:00  \n",
       "3 2019-06-15 09:49:00 2019-06-15 08:49:00  \n",
       "4 2019-06-16 05:51:00 2019-06-16 04:51:00  "
      ]
     },
     "execution_count": 142,
     "metadata": {},
     "output_type": "execute_result"
    }
   ],
   "source": [
    "df_repas_insuline.head()"
   ]
  },
  {
   "cell_type": "code",
   "execution_count": 143,
   "metadata": {},
   "outputs": [],
   "source": [
    "#Glucose mg/dL \n",
    "#Recuperation du taux de glucose au moment du repas\n",
    "df_repas_insuline['Glucose0H'] = df_repas_insuline['Date0H'].apply(lambda x: df_glucose.iloc[df_glucose.index.get_loc(x,method='nearest')]['Historique de la glycémie mg/dL'])\n",
    "df_repas_insuline['Glucose-1H'] = df_repas_insuline['Date-1H'].apply(lambda x: df_glucose.iloc[df_glucose.index.get_loc(x,method='nearest')]['Historique de la glycémie mg/dL'])\n",
    "df_repas_insuline['Glucose-2H'] = df_repas_insuline['Date-2H'].apply(lambda x: df_glucose.iloc[df_glucose.index.get_loc(x,method='nearest')]['Historique de la glycémie mg/dL'])\n",
    "df_repas_insuline['Glucose-3H'] = df_repas_insuline['Date-3H'].apply(lambda x: df_glucose.iloc[df_glucose.index.get_loc(x,method='nearest')]['Historique de la glycémie mg/dL'])\n",
    "df_repas_insuline['Glucose-4H'] = df_repas_insuline['Date-4H'].apply(lambda x: df_glucose.iloc[df_glucose.index.get_loc(x,method='nearest')]['Historique de la glycémie mg/dL'])"
   ]
  },
  {
   "cell_type": "code",
   "execution_count": 144,
   "metadata": {},
   "outputs": [
    {
     "data": {
      "text/html": [
       "<div>\n",
       "<style scoped>\n",
       "    .dataframe tbody tr th:only-of-type {\n",
       "        vertical-align: middle;\n",
       "    }\n",
       "\n",
       "    .dataframe tbody tr th {\n",
       "        vertical-align: top;\n",
       "    }\n",
       "\n",
       "    .dataframe thead th {\n",
       "        text-align: right;\n",
       "    }\n",
       "</style>\n",
       "<table border=\"1\" class=\"dataframe\">\n",
       "  <thead>\n",
       "    <tr style=\"text-align: right;\">\n",
       "      <th></th>\n",
       "      <th>DateCp</th>\n",
       "      <th>Lente</th>\n",
       "      <th>Rapide</th>\n",
       "      <th>Day</th>\n",
       "      <th>Time</th>\n",
       "      <th>Glucose0H</th>\n",
       "      <th>Glucose-1H</th>\n",
       "      <th>Glucose-2H</th>\n",
       "      <th>Glucose-3H</th>\n",
       "      <th>Glucose-4H</th>\n",
       "    </tr>\n",
       "  </thead>\n",
       "  <tbody>\n",
       "    <tr>\n",
       "      <th>0</th>\n",
       "      <td>2019-06-14 09:03:00</td>\n",
       "      <td>16.0</td>\n",
       "      <td>16.0</td>\n",
       "      <td>2019-06-14</td>\n",
       "      <td>09:03:00</td>\n",
       "      <td>108.0</td>\n",
       "      <td>101.0</td>\n",
       "      <td>100.0</td>\n",
       "      <td>105.0</td>\n",
       "      <td>110.0</td>\n",
       "    </tr>\n",
       "    <tr>\n",
       "      <th>1</th>\n",
       "      <td>2019-06-14 13:21:00</td>\n",
       "      <td>NaN</td>\n",
       "      <td>6.0</td>\n",
       "      <td>2019-06-14</td>\n",
       "      <td>13:21:00</td>\n",
       "      <td>124.0</td>\n",
       "      <td>144.0</td>\n",
       "      <td>194.0</td>\n",
       "      <td>163.0</td>\n",
       "      <td>104.0</td>\n",
       "    </tr>\n",
       "    <tr>\n",
       "      <th>2</th>\n",
       "      <td>2019-06-15 08:52:00</td>\n",
       "      <td>14.0</td>\n",
       "      <td>13.0</td>\n",
       "      <td>2019-06-15</td>\n",
       "      <td>08:52:00</td>\n",
       "      <td>67.0</td>\n",
       "      <td>73.0</td>\n",
       "      <td>74.0</td>\n",
       "      <td>83.0</td>\n",
       "      <td>88.0</td>\n",
       "    </tr>\n",
       "    <tr>\n",
       "      <th>3</th>\n",
       "      <td>2019-06-15 12:49:00</td>\n",
       "      <td>NaN</td>\n",
       "      <td>6.0</td>\n",
       "      <td>2019-06-15</td>\n",
       "      <td>12:49:00</td>\n",
       "      <td>46.0</td>\n",
       "      <td>58.0</td>\n",
       "      <td>101.0</td>\n",
       "      <td>86.0</td>\n",
       "      <td>67.0</td>\n",
       "    </tr>\n",
       "    <tr>\n",
       "      <th>4</th>\n",
       "      <td>2019-06-16 08:51:00</td>\n",
       "      <td>14.0</td>\n",
       "      <td>13.0</td>\n",
       "      <td>2019-06-16</td>\n",
       "      <td>08:51:00</td>\n",
       "      <td>109.0</td>\n",
       "      <td>92.0</td>\n",
       "      <td>86.0</td>\n",
       "      <td>78.0</td>\n",
       "      <td>77.0</td>\n",
       "    </tr>\n",
       "  </tbody>\n",
       "</table>\n",
       "</div>"
      ],
      "text/plain": [
       "               DateCp  Lente  Rapide         Day      Time  Glucose0H  \\\n",
       "0 2019-06-14 09:03:00   16.0    16.0  2019-06-14  09:03:00      108.0   \n",
       "1 2019-06-14 13:21:00    NaN     6.0  2019-06-14  13:21:00      124.0   \n",
       "2 2019-06-15 08:52:00   14.0    13.0  2019-06-15  08:52:00       67.0   \n",
       "3 2019-06-15 12:49:00    NaN     6.0  2019-06-15  12:49:00       46.0   \n",
       "4 2019-06-16 08:51:00   14.0    13.0  2019-06-16  08:51:00      109.0   \n",
       "\n",
       "   Glucose-1H  Glucose-2H  Glucose-3H  Glucose-4H  \n",
       "0       101.0       100.0       105.0       110.0  \n",
       "1       144.0       194.0       163.0       104.0  \n",
       "2        73.0        74.0        83.0        88.0  \n",
       "3        58.0       101.0        86.0        67.0  \n",
       "4        92.0        86.0        78.0        77.0  "
      ]
     },
     "execution_count": 144,
     "metadata": {},
     "output_type": "execute_result"
    }
   ],
   "source": [
    "df_repas_insuline.drop(['Date0H', 'Date-1H', 'Date-2H', 'Date-3H', 'Date-4H'], axis=1, inplace=True)\n",
    "df_repas_insuline.rename(columns={\"Day_y\": \"Day\", \"Time_y\": \"Time\",\"Insuline à action longue (unités)\": \"Lente\", \"Insuline à action rapide (unités)\": \"Rapide\" }, inplace=True)\n",
    "df_repas_insuline.head()"
   ]
  },
  {
   "cell_type": "code",
   "execution_count": 145,
   "metadata": {},
   "outputs": [],
   "source": [
    "def getRepas(timestamp_):\n",
    "    \n",
    "    current_time = timestamp_.time()\n",
    "        \n",
    "    hour_max_breakfast = datetime.strptime('11::00::00', '%H::%M::%S').time()\n",
    "    hour_max_lunch = datetime.strptime('16::00::00', '%H::%M::%S').time()\n",
    "    hour_max_dinner = datetime.strptime('21::00::00', '%H::%M::%S').time()\n",
    "    \n",
    "    if current_time < hour_max_breakfast:\n",
    "        return 0\n",
    "    elif current_time > hour_max_breakfast and current_time < hour_max_lunch:\n",
    "        return 1\n",
    "    elif current_time > hour_max_lunch and current_time < hour_max_dinner:\n",
    "        return 2\n",
    "    else:\n",
    "        return 3\n",
    "\n",
    "#determine le type de repas (dej, lunch, dinner)\n",
    "df_repas_insuline['RepasType'] = df_repas_insuline['DateCp'].apply(lambda x: getRepas(x))"
   ]
  },
  {
   "cell_type": "code",
   "execution_count": 146,
   "metadata": {},
   "outputs": [
    {
     "data": {
      "text/html": [
       "<div>\n",
       "<style scoped>\n",
       "    .dataframe tbody tr th:only-of-type {\n",
       "        vertical-align: middle;\n",
       "    }\n",
       "\n",
       "    .dataframe tbody tr th {\n",
       "        vertical-align: top;\n",
       "    }\n",
       "\n",
       "    .dataframe thead th {\n",
       "        text-align: right;\n",
       "    }\n",
       "</style>\n",
       "<table border=\"1\" class=\"dataframe\">\n",
       "  <thead>\n",
       "    <tr style=\"text-align: right;\">\n",
       "      <th></th>\n",
       "      <th>DateCp</th>\n",
       "      <th>Lente</th>\n",
       "      <th>Rapide</th>\n",
       "      <th>Day</th>\n",
       "      <th>Time</th>\n",
       "      <th>Glucose0H</th>\n",
       "      <th>Glucose-1H</th>\n",
       "      <th>Glucose-2H</th>\n",
       "      <th>Glucose-3H</th>\n",
       "      <th>Glucose-4H</th>\n",
       "      <th>RepasType</th>\n",
       "    </tr>\n",
       "  </thead>\n",
       "  <tbody>\n",
       "    <tr>\n",
       "      <th>0</th>\n",
       "      <td>2019-06-14 09:03:00</td>\n",
       "      <td>16.0</td>\n",
       "      <td>16.0</td>\n",
       "      <td>2019-06-14</td>\n",
       "      <td>09:03:00</td>\n",
       "      <td>108.0</td>\n",
       "      <td>101.0</td>\n",
       "      <td>100.0</td>\n",
       "      <td>105.0</td>\n",
       "      <td>110.0</td>\n",
       "      <td>0</td>\n",
       "    </tr>\n",
       "    <tr>\n",
       "      <th>1</th>\n",
       "      <td>2019-06-14 13:21:00</td>\n",
       "      <td>NaN</td>\n",
       "      <td>6.0</td>\n",
       "      <td>2019-06-14</td>\n",
       "      <td>13:21:00</td>\n",
       "      <td>124.0</td>\n",
       "      <td>144.0</td>\n",
       "      <td>194.0</td>\n",
       "      <td>163.0</td>\n",
       "      <td>104.0</td>\n",
       "      <td>1</td>\n",
       "    </tr>\n",
       "    <tr>\n",
       "      <th>2</th>\n",
       "      <td>2019-06-15 08:52:00</td>\n",
       "      <td>14.0</td>\n",
       "      <td>13.0</td>\n",
       "      <td>2019-06-15</td>\n",
       "      <td>08:52:00</td>\n",
       "      <td>67.0</td>\n",
       "      <td>73.0</td>\n",
       "      <td>74.0</td>\n",
       "      <td>83.0</td>\n",
       "      <td>88.0</td>\n",
       "      <td>0</td>\n",
       "    </tr>\n",
       "    <tr>\n",
       "      <th>3</th>\n",
       "      <td>2019-06-15 12:49:00</td>\n",
       "      <td>NaN</td>\n",
       "      <td>6.0</td>\n",
       "      <td>2019-06-15</td>\n",
       "      <td>12:49:00</td>\n",
       "      <td>46.0</td>\n",
       "      <td>58.0</td>\n",
       "      <td>101.0</td>\n",
       "      <td>86.0</td>\n",
       "      <td>67.0</td>\n",
       "      <td>1</td>\n",
       "    </tr>\n",
       "    <tr>\n",
       "      <th>4</th>\n",
       "      <td>2019-06-16 08:51:00</td>\n",
       "      <td>14.0</td>\n",
       "      <td>13.0</td>\n",
       "      <td>2019-06-16</td>\n",
       "      <td>08:51:00</td>\n",
       "      <td>109.0</td>\n",
       "      <td>92.0</td>\n",
       "      <td>86.0</td>\n",
       "      <td>78.0</td>\n",
       "      <td>77.0</td>\n",
       "      <td>0</td>\n",
       "    </tr>\n",
       "  </tbody>\n",
       "</table>\n",
       "</div>"
      ],
      "text/plain": [
       "               DateCp  Lente  Rapide         Day      Time  Glucose0H  \\\n",
       "0 2019-06-14 09:03:00   16.0    16.0  2019-06-14  09:03:00      108.0   \n",
       "1 2019-06-14 13:21:00    NaN     6.0  2019-06-14  13:21:00      124.0   \n",
       "2 2019-06-15 08:52:00   14.0    13.0  2019-06-15  08:52:00       67.0   \n",
       "3 2019-06-15 12:49:00    NaN     6.0  2019-06-15  12:49:00       46.0   \n",
       "4 2019-06-16 08:51:00   14.0    13.0  2019-06-16  08:51:00      109.0   \n",
       "\n",
       "   Glucose-1H  Glucose-2H  Glucose-3H  Glucose-4H  RepasType  \n",
       "0       101.0       100.0       105.0       110.0          0  \n",
       "1       144.0       194.0       163.0       104.0          1  \n",
       "2        73.0        74.0        83.0        88.0          0  \n",
       "3        58.0       101.0        86.0        67.0          1  \n",
       "4        92.0        86.0        78.0        77.0          0  "
      ]
     },
     "execution_count": 146,
     "metadata": {},
     "output_type": "execute_result"
    }
   ],
   "source": [
    "df_repas_insuline.head()"
   ]
  },
  {
   "cell_type": "code",
   "execution_count": 147,
   "metadata": {},
   "outputs": [],
   "source": [
    "# Y = Glucose 2h après le repas\n",
    "\n",
    "df_repas_insuline['Glucose+2H'] = df_repas_insuline['DateCp'] \\\n",
    "                                .apply(lambda x: df_glucose.iloc[df_glucose.index.get_loc(x + timedelta(hours=2),method='nearest')]\n",
    "                                       ['Historique de la glycémie mg/dL'])"
   ]
  },
  {
   "cell_type": "code",
   "execution_count": 148,
   "metadata": {},
   "outputs": [],
   "source": [
    "#Time Encoding\n",
    "df_repas_insuline['Year'] = df_repas_insuline['DateCp'].apply(lambda x : x.year)\n",
    "df_repas_insuline['Month'] = df_repas_insuline['DateCp'].apply(lambda x : x.month)\n",
    "df_repas_insuline['Day'] = df_repas_insuline['DateCp'].apply(lambda x : x.day)\n",
    "df_repas_insuline['DayOfWeek'] = df_repas_insuline['DateCp'].apply(lambda x : x.dayofweek)\n",
    "df_repas_insuline['Hour'] = df_repas_insuline['DateCp'].apply(lambda x : x.hour)"
   ]
  },
  {
   "cell_type": "code",
   "execution_count": 149,
   "metadata": {},
   "outputs": [
    {
     "data": {
      "text/html": [
       "<div>\n",
       "<style scoped>\n",
       "    .dataframe tbody tr th:only-of-type {\n",
       "        vertical-align: middle;\n",
       "    }\n",
       "\n",
       "    .dataframe tbody tr th {\n",
       "        vertical-align: top;\n",
       "    }\n",
       "\n",
       "    .dataframe thead th {\n",
       "        text-align: right;\n",
       "    }\n",
       "</style>\n",
       "<table border=\"1\" class=\"dataframe\">\n",
       "  <thead>\n",
       "    <tr style=\"text-align: right;\">\n",
       "      <th></th>\n",
       "      <th>Lente</th>\n",
       "      <th>Rapide</th>\n",
       "      <th>Day</th>\n",
       "      <th>Glucose0H</th>\n",
       "      <th>Glucose-1H</th>\n",
       "      <th>Glucose-2H</th>\n",
       "      <th>Glucose-3H</th>\n",
       "      <th>Glucose-4H</th>\n",
       "      <th>RepasType</th>\n",
       "      <th>Glucose+2H</th>\n",
       "      <th>Year</th>\n",
       "      <th>Month</th>\n",
       "      <th>DayOfWeek</th>\n",
       "      <th>Hour</th>\n",
       "    </tr>\n",
       "  </thead>\n",
       "  <tbody>\n",
       "    <tr>\n",
       "      <th>0</th>\n",
       "      <td>16.0</td>\n",
       "      <td>16.0</td>\n",
       "      <td>14</td>\n",
       "      <td>108.0</td>\n",
       "      <td>101.0</td>\n",
       "      <td>100.0</td>\n",
       "      <td>105.0</td>\n",
       "      <td>110.0</td>\n",
       "      <td>0</td>\n",
       "      <td>197.0</td>\n",
       "      <td>2019</td>\n",
       "      <td>6</td>\n",
       "      <td>4</td>\n",
       "      <td>9</td>\n",
       "    </tr>\n",
       "    <tr>\n",
       "      <th>1</th>\n",
       "      <td>NaN</td>\n",
       "      <td>6.0</td>\n",
       "      <td>14</td>\n",
       "      <td>124.0</td>\n",
       "      <td>144.0</td>\n",
       "      <td>194.0</td>\n",
       "      <td>163.0</td>\n",
       "      <td>104.0</td>\n",
       "      <td>1</td>\n",
       "      <td>145.0</td>\n",
       "      <td>2019</td>\n",
       "      <td>6</td>\n",
       "      <td>4</td>\n",
       "      <td>13</td>\n",
       "    </tr>\n",
       "    <tr>\n",
       "      <th>2</th>\n",
       "      <td>14.0</td>\n",
       "      <td>13.0</td>\n",
       "      <td>15</td>\n",
       "      <td>67.0</td>\n",
       "      <td>73.0</td>\n",
       "      <td>74.0</td>\n",
       "      <td>83.0</td>\n",
       "      <td>88.0</td>\n",
       "      <td>0</td>\n",
       "      <td>101.0</td>\n",
       "      <td>2019</td>\n",
       "      <td>6</td>\n",
       "      <td>5</td>\n",
       "      <td>8</td>\n",
       "    </tr>\n",
       "    <tr>\n",
       "      <th>3</th>\n",
       "      <td>NaN</td>\n",
       "      <td>6.0</td>\n",
       "      <td>15</td>\n",
       "      <td>46.0</td>\n",
       "      <td>58.0</td>\n",
       "      <td>101.0</td>\n",
       "      <td>86.0</td>\n",
       "      <td>67.0</td>\n",
       "      <td>1</td>\n",
       "      <td>88.0</td>\n",
       "      <td>2019</td>\n",
       "      <td>6</td>\n",
       "      <td>5</td>\n",
       "      <td>12</td>\n",
       "    </tr>\n",
       "    <tr>\n",
       "      <th>4</th>\n",
       "      <td>14.0</td>\n",
       "      <td>13.0</td>\n",
       "      <td>16</td>\n",
       "      <td>109.0</td>\n",
       "      <td>92.0</td>\n",
       "      <td>86.0</td>\n",
       "      <td>78.0</td>\n",
       "      <td>77.0</td>\n",
       "      <td>0</td>\n",
       "      <td>156.0</td>\n",
       "      <td>2019</td>\n",
       "      <td>6</td>\n",
       "      <td>6</td>\n",
       "      <td>8</td>\n",
       "    </tr>\n",
       "  </tbody>\n",
       "</table>\n",
       "</div>"
      ],
      "text/plain": [
       "   Lente  Rapide  Day  Glucose0H  Glucose-1H  Glucose-2H  Glucose-3H  \\\n",
       "0   16.0    16.0   14      108.0       101.0       100.0       105.0   \n",
       "1    NaN     6.0   14      124.0       144.0       194.0       163.0   \n",
       "2   14.0    13.0   15       67.0        73.0        74.0        83.0   \n",
       "3    NaN     6.0   15       46.0        58.0       101.0        86.0   \n",
       "4   14.0    13.0   16      109.0        92.0        86.0        78.0   \n",
       "\n",
       "   Glucose-4H  RepasType  Glucose+2H  Year  Month  DayOfWeek  Hour  \n",
       "0       110.0          0       197.0  2019      6          4     9  \n",
       "1       104.0          1       145.0  2019      6          4    13  \n",
       "2        88.0          0       101.0  2019      6          5     8  \n",
       "3        67.0          1        88.0  2019      6          5    12  \n",
       "4        77.0          0       156.0  2019      6          6     8  "
      ]
     },
     "execution_count": 149,
     "metadata": {},
     "output_type": "execute_result"
    }
   ],
   "source": [
    "df_repas_insuline.drop(['DateCp', 'Time'], axis=1, inplace=True)\n",
    "#df_repas_insuline.drop(['Time'], axis=1, inplace=True)\n",
    "df_repas_insuline.head()"
   ]
  },
  {
   "cell_type": "code",
   "execution_count": 150,
   "metadata": {},
   "outputs": [
    {
     "data": {
      "text/plain": [
       "Lente         float64\n",
       "Rapide        float64\n",
       "Day             int64\n",
       "Glucose0H     float64\n",
       "Glucose-1H    float64\n",
       "Glucose-2H    float64\n",
       "Glucose-3H    float64\n",
       "Glucose-4H    float64\n",
       "RepasType       int64\n",
       "Glucose+2H    float64\n",
       "Year            int64\n",
       "Month           int64\n",
       "DayOfWeek       int64\n",
       "Hour            int64\n",
       "dtype: object"
      ]
     },
     "execution_count": 150,
     "metadata": {},
     "output_type": "execute_result"
    }
   ],
   "source": [
    "df_repas_insuline.dtypes"
   ]
  },
  {
   "cell_type": "markdown",
   "metadata": {},
   "source": [
    "# Glucose / Jour\n",
    "Analyse des données de glycemie par jour\n",
    "- moyenne\n",
    "- ecart type"
   ]
  },
  {
   "cell_type": "code",
   "execution_count": 170,
   "metadata": {},
   "outputs": [],
   "source": [
    "df_glucose = df_glucose[['Historique de la glycémie mg/dL', 'DateCp', 'Day', 'Time']]\n",
    "df_glucose.rename(columns={'Historique de la glycémie mg/dL': 'Glucose'}, inplace=True)"
   ]
  },
  {
   "cell_type": "code",
   "execution_count": 171,
   "metadata": {},
   "outputs": [
    {
     "data": {
      "text/html": [
       "<div>\n",
       "<style scoped>\n",
       "    .dataframe tbody tr th:only-of-type {\n",
       "        vertical-align: middle;\n",
       "    }\n",
       "\n",
       "    .dataframe tbody tr th {\n",
       "        vertical-align: top;\n",
       "    }\n",
       "\n",
       "    .dataframe thead th {\n",
       "        text-align: right;\n",
       "    }\n",
       "</style>\n",
       "<table border=\"1\" class=\"dataframe\">\n",
       "  <thead>\n",
       "    <tr style=\"text-align: right;\">\n",
       "      <th></th>\n",
       "      <th>Glucose</th>\n",
       "      <th>DateCp</th>\n",
       "      <th>Day</th>\n",
       "      <th>Time</th>\n",
       "    </tr>\n",
       "    <tr>\n",
       "      <th>Date</th>\n",
       "      <th></th>\n",
       "      <th></th>\n",
       "      <th></th>\n",
       "      <th></th>\n",
       "    </tr>\n",
       "  </thead>\n",
       "  <tbody>\n",
       "    <tr>\n",
       "      <th>2019-12-10 19:37:00</th>\n",
       "      <td>150.0</td>\n",
       "      <td>2019-12-10 19:37:00</td>\n",
       "      <td>2019-12-10</td>\n",
       "      <td>19:37:00</td>\n",
       "    </tr>\n",
       "    <tr>\n",
       "      <th>2019-12-10 19:22:00</th>\n",
       "      <td>156.0</td>\n",
       "      <td>2019-12-10 19:22:00</td>\n",
       "      <td>2019-12-10</td>\n",
       "      <td>19:22:00</td>\n",
       "    </tr>\n",
       "    <tr>\n",
       "      <th>2019-12-10 19:07:00</th>\n",
       "      <td>166.0</td>\n",
       "      <td>2019-12-10 19:07:00</td>\n",
       "      <td>2019-12-10</td>\n",
       "      <td>19:07:00</td>\n",
       "    </tr>\n",
       "    <tr>\n",
       "      <th>2019-12-10 18:52:00</th>\n",
       "      <td>169.0</td>\n",
       "      <td>2019-12-10 18:52:00</td>\n",
       "      <td>2019-12-10</td>\n",
       "      <td>18:52:00</td>\n",
       "    </tr>\n",
       "    <tr>\n",
       "      <th>2019-12-10 18:37:00</th>\n",
       "      <td>150.0</td>\n",
       "      <td>2019-12-10 18:37:00</td>\n",
       "      <td>2019-12-10</td>\n",
       "      <td>18:37:00</td>\n",
       "    </tr>\n",
       "  </tbody>\n",
       "</table>\n",
       "</div>"
      ],
      "text/plain": [
       "                     Glucose              DateCp         Day      Time\n",
       "Date                                                                  \n",
       "2019-12-10 19:37:00    150.0 2019-12-10 19:37:00  2019-12-10  19:37:00\n",
       "2019-12-10 19:22:00    156.0 2019-12-10 19:22:00  2019-12-10  19:22:00\n",
       "2019-12-10 19:07:00    166.0 2019-12-10 19:07:00  2019-12-10  19:07:00\n",
       "2019-12-10 18:52:00    169.0 2019-12-10 18:52:00  2019-12-10  18:52:00\n",
       "2019-12-10 18:37:00    150.0 2019-12-10 18:37:00  2019-12-10  18:37:00"
      ]
     },
     "execution_count": 171,
     "metadata": {},
     "output_type": "execute_result"
    }
   ],
   "source": [
    "df_glucose.head()"
   ]
  },
  {
   "cell_type": "code",
   "execution_count": 196,
   "metadata": {},
   "outputs": [
    {
     "name": "stdout",
     "output_type": "stream",
     "text": [
      "Jours disponibles : 188\n",
      "\n",
      "\n",
      "Moyenne / Jours disponibles : 152.46084848932853\n",
      "Std / Jours disponibles : 33.365264399967856\n"
     ]
    }
   ],
   "source": [
    "#Pandas Serie correspondant au taux moyen de sucre\n",
    "taux_moyen_per_day  = df_glucose.groupby('Day')['Glucose'].mean()\n",
    "\n",
    "#Il faudrait que le taux de glucose moyen journalier se situe entre 90 / 120mg/dL\n",
    "\n",
    "#Nombre de jours disponibles pour l'analyse: \n",
    "print('Jours disponibles :', taux_moyen_per_day.shape[0])\n",
    "print('\\n')\n",
    "#Moyenne sur les jours \n",
    "mean = taux_moyen_per_day.mean()\n",
    "print('Moyenne / Jours disponibles :', mean)\n",
    "\n",
    "std = taux_moyen_per_day.std()\n",
    "print('Std / Jours disponibles :', std)"
   ]
  },
  {
   "cell_type": "code",
   "execution_count": 192,
   "metadata": {},
   "outputs": [
    {
     "data": {
      "text/plain": [
       "<matplotlib.lines.Line2D at 0x1a1fe1c8d0>"
      ]
     },
     "execution_count": 192,
     "metadata": {},
     "output_type": "execute_result"
    },
    {
     "data": {
      "image/png": "[encoded data removed]",
      "text/plain": [
       "<Figure size 432x288 with 1 Axes>"
      ]
     },
     "metadata": {
      "needs_background": "light"
     },
     "output_type": "display_data"
    }
   ],
   "source": [
    "#Taux moyen journalier\n",
    "taux_moyen_per_day.plot.hist(bins=25)\n",
    "\n",
    "plt.axvline(mean, color='r', linestyle='dashed', linewidth=2)"
   ]
  },
  {
   "cell_type": "code",
   "execution_count": 202,
   "metadata": {},
   "outputs": [
    {
     "data": {
      "text/plain": [
       "47"
      ]
     },
     "execution_count": 202,
     "metadata": {},
     "output_type": "execute_result"
    }
   ],
   "source": [
    "#Jours passés au dessus de 175mg/dL\n",
    "(taux_moyen_per_day > 175).sum()"
   ]
  },
  {
   "cell_type": "code",
   "execution_count": 213,
   "metadata": {},
   "outputs": [
    {
     "data": {
      "text/html": [
       "<div>\n",
       "<style scoped>\n",
       "    .dataframe tbody tr th:only-of-type {\n",
       "        vertical-align: middle;\n",
       "    }\n",
       "\n",
       "    .dataframe tbody tr th {\n",
       "        vertical-align: top;\n",
       "    }\n",
       "\n",
       "    .dataframe thead th {\n",
       "        text-align: right;\n",
       "    }\n",
       "</style>\n",
       "<table border=\"1\" class=\"dataframe\">\n",
       "  <thead>\n",
       "    <tr style=\"text-align: right;\">\n",
       "      <th></th>\n",
       "      <th>Glucose</th>\n",
       "      <th>DateCp</th>\n",
       "      <th>Day</th>\n",
       "      <th>Time</th>\n",
       "    </tr>\n",
       "    <tr>\n",
       "      <th>Date</th>\n",
       "      <th></th>\n",
       "      <th></th>\n",
       "      <th></th>\n",
       "      <th></th>\n",
       "    </tr>\n",
       "  </thead>\n",
       "  <tbody>\n",
       "    <tr>\n",
       "      <th>2019-12-10 19:37:00</th>\n",
       "      <td>150.0</td>\n",
       "      <td>2019-12-10 19:37:00</td>\n",
       "      <td>2019-12-10</td>\n",
       "      <td>19:37:00</td>\n",
       "    </tr>\n",
       "    <tr>\n",
       "      <th>2019-12-10 19:22:00</th>\n",
       "      <td>156.0</td>\n",
       "      <td>2019-12-10 19:22:00</td>\n",
       "      <td>2019-12-10</td>\n",
       "      <td>19:22:00</td>\n",
       "    </tr>\n",
       "    <tr>\n",
       "      <th>2019-12-10 19:07:00</th>\n",
       "      <td>166.0</td>\n",
       "      <td>2019-12-10 19:07:00</td>\n",
       "      <td>2019-12-10</td>\n",
       "      <td>19:07:00</td>\n",
       "    </tr>\n",
       "    <tr>\n",
       "      <th>2019-12-10 18:52:00</th>\n",
       "      <td>169.0</td>\n",
       "      <td>2019-12-10 18:52:00</td>\n",
       "      <td>2019-12-10</td>\n",
       "      <td>18:52:00</td>\n",
       "    </tr>\n",
       "    <tr>\n",
       "      <th>2019-12-10 18:37:00</th>\n",
       "      <td>150.0</td>\n",
       "      <td>2019-12-10 18:37:00</td>\n",
       "      <td>2019-12-10</td>\n",
       "      <td>18:37:00</td>\n",
       "    </tr>\n",
       "  </tbody>\n",
       "</table>\n",
       "</div>"
      ],
      "text/plain": [
       "                     Glucose              DateCp         Day      Time\n",
       "Date                                                                  \n",
       "2019-12-10 19:37:00    150.0 2019-12-10 19:37:00  2019-12-10  19:37:00\n",
       "2019-12-10 19:22:00    156.0 2019-12-10 19:22:00  2019-12-10  19:22:00\n",
       "2019-12-10 19:07:00    166.0 2019-12-10 19:07:00  2019-12-10  19:07:00\n",
       "2019-12-10 18:52:00    169.0 2019-12-10 18:52:00  2019-12-10  18:52:00\n",
       "2019-12-10 18:37:00    150.0 2019-12-10 18:37:00  2019-12-10  18:37:00"
      ]
     },
     "execution_count": 213,
     "metadata": {},
     "output_type": "execute_result"
    }
   ],
   "source": [
    "df_glucose.head()"
   ]
  },
  {
   "cell_type": "code",
   "execution_count": 221,
   "metadata": {},
   "outputs": [
    {
     "data": {
      "image/png": "[encoded data removed]",
      "text/plain": [
       "<Figure size 720x288 with 1 Axes>"
      ]
     },
     "metadata": {
      "needs_background": "light"
     },
     "output_type": "display_data"
    },
    {
     "data": {
      "image/png": "[encoded data removed]",
      "text/plain": [
       "<Figure size 720x288 with 1 Axes>"
      ]
     },
     "metadata": {
      "needs_background": "light"
     },
     "output_type": "display_data"
    },
    {
     "data": {
      "image/png": "[encoded data removed]",
      "text/plain": [
       "<Figure size 720x288 with 1 Axes>"
      ]
     },
     "metadata": {
      "needs_background": "light"
     },
     "output_type": "display_data"
    },
    {
     "data": {
      "image/png": "[encoded data removed]",
      "text/plain": [
       "<Figure size 720x288 with 1 Axes>"
      ]
     },
     "metadata": {
      "needs_background": "light"
     },
     "output_type": "display_data"
    }
   ],
   "source": [
    "df_glucose = df_glucose.sort_values('DateCp', ascending=False)\n",
    "\n",
    "iter_ = 0\n",
    "\n",
    "for group in df_glucose.groupby(['Day']):\n",
    "    df_glucose_day = group[1]\n",
    "    title_ = df_glucose_day.iloc[0]['DateCp'].strftime(\"%m/%d/%Y\")\n",
    "    df_glucose_day.plot(x='Time', y='Glucose', figsize=(10,4), title=title_)\n",
    "    iter_ = iter_ + 1\n",
    "    if iter_ > 3:\n",
    "        break"
   ]
  },
  {
   "cell_type": "code",
   "execution_count": 226,
   "metadata": {},
   "outputs": [
    {
     "data": {
      "text/plain": [
       "<matplotlib.axes._subplots.AxesSubplot at 0x1a31cd10b8>"
      ]
     },
     "execution_count": 226,
     "metadata": {},
     "output_type": "execute_result"
    },
    {
     "data": {
      "image/png": "[encoded data removed]",
      "text/plain": [
       "<Figure size 1440x720 with 1 Axes>"
      ]
     },
     "metadata": {
      "needs_background": "light"
     },
     "output_type": "display_data"
    }
   ],
   "source": [
    "df_glucose.plot(x='DateCp', y='Glucose', figsize=(20,10))"
   ]
  },
  {
   "cell_type": "code",
   "execution_count": 199,
   "metadata": {},
   "outputs": [],
   "source": [
    "df_glucose_analyse = df_glucose.groupby('Day')['Glucose'].describe()"
   ]
  },
  {
   "cell_type": "code",
   "execution_count": 200,
   "metadata": {},
   "outputs": [
    {
     "data": {
      "text/html": [
       "<div>\n",
       "<style scoped>\n",
       "    .dataframe tbody tr th:only-of-type {\n",
       "        vertical-align: middle;\n",
       "    }\n",
       "\n",
       "    .dataframe tbody tr th {\n",
       "        vertical-align: top;\n",
       "    }\n",
       "\n",
       "    .dataframe thead th {\n",
       "        text-align: right;\n",
       "    }\n",
       "</style>\n",
       "<table border=\"1\" class=\"dataframe\">\n",
       "  <thead>\n",
       "    <tr style=\"text-align: right;\">\n",
       "      <th></th>\n",
       "      <th>count</th>\n",
       "      <th>mean</th>\n",
       "      <th>std</th>\n",
       "      <th>min</th>\n",
       "      <th>25%</th>\n",
       "      <th>50%</th>\n",
       "      <th>75%</th>\n",
       "      <th>max</th>\n",
       "    </tr>\n",
       "    <tr>\n",
       "      <th>Day</th>\n",
       "      <th></th>\n",
       "      <th></th>\n",
       "      <th></th>\n",
       "      <th></th>\n",
       "      <th></th>\n",
       "      <th></th>\n",
       "      <th></th>\n",
       "      <th></th>\n",
       "    </tr>\n",
       "  </thead>\n",
       "  <tbody>\n",
       "    <tr>\n",
       "      <th>2019-05-23</th>\n",
       "      <td>28.0</td>\n",
       "      <td>154.642857</td>\n",
       "      <td>37.968032</td>\n",
       "      <td>113.0</td>\n",
       "      <td>123.75</td>\n",
       "      <td>138.0</td>\n",
       "      <td>181.25</td>\n",
       "      <td>229.0</td>\n",
       "    </tr>\n",
       "    <tr>\n",
       "      <th>2019-05-24</th>\n",
       "      <td>96.0</td>\n",
       "      <td>147.802083</td>\n",
       "      <td>39.219657</td>\n",
       "      <td>73.0</td>\n",
       "      <td>130.00</td>\n",
       "      <td>141.5</td>\n",
       "      <td>156.00</td>\n",
       "      <td>261.0</td>\n",
       "    </tr>\n",
       "    <tr>\n",
       "      <th>2019-05-25</th>\n",
       "      <td>96.0</td>\n",
       "      <td>131.500000</td>\n",
       "      <td>43.947816</td>\n",
       "      <td>58.0</td>\n",
       "      <td>95.75</td>\n",
       "      <td>123.0</td>\n",
       "      <td>154.25</td>\n",
       "      <td>270.0</td>\n",
       "    </tr>\n",
       "    <tr>\n",
       "      <th>2019-05-26</th>\n",
       "      <td>96.0</td>\n",
       "      <td>155.572917</td>\n",
       "      <td>76.701300</td>\n",
       "      <td>50.0</td>\n",
       "      <td>98.50</td>\n",
       "      <td>128.0</td>\n",
       "      <td>201.75</td>\n",
       "      <td>349.0</td>\n",
       "    </tr>\n",
       "    <tr>\n",
       "      <th>2019-05-27</th>\n",
       "      <td>96.0</td>\n",
       "      <td>217.156250</td>\n",
       "      <td>49.784447</td>\n",
       "      <td>94.0</td>\n",
       "      <td>187.00</td>\n",
       "      <td>239.0</td>\n",
       "      <td>253.50</td>\n",
       "      <td>285.0</td>\n",
       "    </tr>\n",
       "  </tbody>\n",
       "</table>\n",
       "</div>"
      ],
      "text/plain": [
       "            count        mean        std    min     25%    50%     75%    max\n",
       "Day                                                                          \n",
       "2019-05-23   28.0  154.642857  37.968032  113.0  123.75  138.0  181.25  229.0\n",
       "2019-05-24   96.0  147.802083  39.219657   73.0  130.00  141.5  156.00  261.0\n",
       "2019-05-25   96.0  131.500000  43.947816   58.0   95.75  123.0  154.25  270.0\n",
       "2019-05-26   96.0  155.572917  76.701300   50.0   98.50  128.0  201.75  349.0\n",
       "2019-05-27   96.0  217.156250  49.784447   94.0  187.00  239.0  253.50  285.0"
      ]
     },
     "execution_count": 200,
     "metadata": {},
     "output_type": "execute_result"
    }
   ],
   "source": [
    "df_glucose_analyse.head()"
   ]
  },
  {
   "cell_type": "markdown",
   "metadata": {},
   "source": [
    "# Glucose +2H prediction\n",
    "\n",
    "Le code suivant permet d'essayer de prédire le taux de glucose deux heures après le repas"
   ]
  },
  {
   "cell_type": "code",
   "execution_count": 151,
   "metadata": {},
   "outputs": [],
   "source": [
    "from sklearn.linear_model import LinearRegression\n",
    "from sklearn.model_selection import train_test_split\n",
    "from sklearn.metrics import mean_squared_error\n",
    "\n",
    "from sklearn.tree import DecisionTreeRegressor"
   ]
  },
  {
   "cell_type": "code",
   "execution_count": 152,
   "metadata": {},
   "outputs": [],
   "source": [
    "#Drop NaN\n",
    "df_repas_insuline = df_repas_insuline.fillna(0.0)"
   ]
  },
  {
   "cell_type": "code",
   "execution_count": 153,
   "metadata": {},
   "outputs": [
    {
     "data": {
      "text/plain": [
       "Glucose+2H    1.000000\n",
       "Glucose0H     0.477938\n",
       "Glucose-1H    0.332591\n",
       "Glucose-2H    0.226910\n",
       "Glucose-3H    0.208935\n",
       "Glucose-4H    0.204758\n",
       "Lente         0.140596\n",
       "Rapide        0.078411\n",
       "RepasType     0.014508\n",
       "Hour          0.007724\n",
       "Day          -0.029330\n",
       "DayOfWeek    -0.048110\n",
       "Month        -0.220879\n",
       "Year               NaN\n",
       "Name: Glucose+2H, dtype: float64"
      ]
     },
     "execution_count": 153,
     "metadata": {},
     "output_type": "execute_result"
    }
   ],
   "source": [
    "#correlation matrix\n",
    "corr_matrix = df_repas_insuline.corr()\n",
    "corr_matrix[\"Glucose+2H\"].sort_values(ascending=False)"
   ]
  },
  {
   "cell_type": "code",
   "execution_count": 154,
   "metadata": {},
   "outputs": [],
   "source": [
    "y = df_repas_insuline['Glucose+2H'].values\n",
    "X = df_repas_insuline.loc[:, df_repas_insuline.columns != 'Glucose+2H'].values"
   ]
  },
  {
   "cell_type": "code",
   "execution_count": 155,
   "metadata": {},
   "outputs": [],
   "source": [
    "attributes = df_repas_insuline.loc[:, df_repas_insuline.columns != 'Glucose+2H'].columns"
   ]
  },
  {
   "cell_type": "code",
   "execution_count": 156,
   "metadata": {},
   "outputs": [],
   "source": [
    "X_train, X_test, y_train, y_test = train_test_split(X, y, test_size=0.2, random_state=42, shuffle=True)"
   ]
  },
  {
   "cell_type": "code",
   "execution_count": 98,
   "metadata": {},
   "outputs": [
    {
     "data": {
      "text/plain": [
       "(328,)"
      ]
     },
     "execution_count": 98,
     "metadata": {},
     "output_type": "execute_result"
    }
   ],
   "source": [
    "y_train.shape"
   ]
  },
  {
   "cell_type": "code",
   "execution_count": 107,
   "metadata": {},
   "outputs": [],
   "source": [
    "def display_scores(scores):\n",
    "    print(\"Scores:\", scores)\n",
    "    print(\"Mean:\", scores.mean())\n",
    "    print(\"Standard deviation:\", scores.std())"
   ]
  },
  {
   "cell_type": "code",
   "execution_count": 105,
   "metadata": {},
   "outputs": [
    {
     "name": "stdout",
     "output_type": "stream",
     "text": [
      "0.2991314667977286\n",
      "53.899299272945214\n"
     ]
    }
   ],
   "source": [
    "# Select a linear model\n",
    "model = LinearRegression() # Train the model\n",
    "model.fit(X_train, y_train)\n",
    "\n",
    "#So in our model, 29% of the variability in Y can be explained using X\n",
    "#Not that much... \n",
    "print(model.score(X_train, y_train))\n",
    "\n",
    "y_pred = model.predict(X_test)\n",
    "lin_mse = mean_squared_error(y_test, y_pred)\n",
    "lin_rmse = np.sqrt(lin_mse)\n",
    "print(lin_rmse)"
   ]
  },
  {
   "cell_type": "code",
   "execution_count": 109,
   "metadata": {},
   "outputs": [
    {
     "name": "stdout",
     "output_type": "stream",
     "text": [
      "Scores: [79.36872142 50.12257702 73.4153811  80.55037949 88.73812341 72.6700722\n",
      " 64.76180131 86.2354072  84.78281076 68.75431805]\n",
      "Mean: 74.93995919501438\n",
      "Standard deviation: 11.095878497778179\n"
     ]
    }
   ],
   "source": [
    "from sklearn.model_selection import cross_val_score\n",
    "\n",
    "tree_reg = DecisionTreeRegressor()\n",
    "tree_reg.fit(X_train, y_train)\n",
    "\n",
    "scores = cross_val_score(tree_reg, X_train, y_train,\n",
    "                             scoring=\"neg_mean_squared_error\", cv=10)\n",
    "\n",
    "tree_rmse_scores = np.sqrt(-scores)\n",
    "\n",
    "display_scores(tree_rmse_scores)\n",
    "\n",
    "#So in our model, 29% of the variability in Y can be explained using X\n",
    "#Not that much... \n",
    "#print(tree_reg.score(X_train, y_train))\n",
    "\n",
    "#y_pred = tree_reg.predict(X_test)\n",
    "#lin_mse = mean_squared_error(y_test, y_pred)\n",
    "#lin_rmse = np.sqrt(lin_mse)\n",
    "#print(lin_rmse)"
   ]
  },
  {
   "cell_type": "code",
   "execution_count": 110,
   "metadata": {},
   "outputs": [
    {
     "name": "stdout",
     "output_type": "stream",
     "text": [
      "54.77927340865998\n"
     ]
    },
    {
     "name": "stderr",
     "output_type": "stream",
     "text": [
      "//anaconda3/lib/python3.7/site-packages/sklearn/ensemble/forest.py:245: FutureWarning: The default value of n_estimators will change from 10 in version 0.20 to 100 in 0.22.\n",
      "  \"10 in version 0.20 to 100 in 0.22.\", FutureWarning)\n"
     ]
    }
   ],
   "source": [
    "from sklearn.ensemble import RandomForestRegressor\n",
    "\n",
    "forest_reg = RandomForestRegressor()\n",
    "forest_reg.fit(X_train, y_train)\n",
    "\n",
    "y_pred = forest_reg.predict(X_test)\n",
    "lin_mse = mean_squared_error(y_test, y_pred)\n",
    "lin_rmse = np.sqrt(lin_mse)\n",
    "print(lin_rmse)"
   ]
  },
  {
   "cell_type": "code",
   "execution_count": 129,
   "metadata": {},
   "outputs": [
    {
     "name": "stderr",
     "output_type": "stream",
     "text": [
      "//anaconda3/lib/python3.7/site-packages/sklearn/model_selection/_search.py:813: DeprecationWarning: The default of the `iid` parameter will change from True to False in version 0.22 and will be removed in 0.24. This will change numeric results when test-set sizes are unequal.\n",
      "  DeprecationWarning)\n"
     ]
    },
    {
     "data": {
      "text/plain": [
       "GridSearchCV(cv=5, error_score='raise-deprecating',\n",
       "             estimator=RandomForestRegressor(bootstrap=True, criterion='mse',\n",
       "                                             max_depth=None,\n",
       "                                             max_features='auto',\n",
       "                                             max_leaf_nodes=None,\n",
       "                                             min_impurity_decrease=0.0,\n",
       "                                             min_impurity_split=None,\n",
       "                                             min_samples_leaf=1,\n",
       "                                             min_samples_split=2,\n",
       "                                             min_weight_fraction_leaf=0.0,\n",
       "                                             n_estimators='warn', n_jobs=None,\n",
       "                                             oob_score=False, random_state=None,\n",
       "                                             verbose=0, warm_start=False),\n",
       "             iid='warn', n_jobs=None,\n",
       "             param_grid=[{'max_features': [2, 4, 6, 8, 10, 13],\n",
       "                          'n_estimators': [3, 10, 30, 50, 100, 150, 200, 250]},\n",
       "                         {'bootstrap': [False],\n",
       "                          'max_features': [2, 4, 6, 8, 10, 13],\n",
       "                          'n_estimators': [3, 10]}],\n",
       "             pre_dispatch='2*n_jobs', refit=True, return_train_score=True,\n",
       "             scoring='neg_mean_squared_error', verbose=0)"
      ]
     },
     "execution_count": 129,
     "metadata": {},
     "output_type": "execute_result"
    }
   ],
   "source": [
    "from sklearn.model_selection import GridSearchCV\n",
    "\n",
    "param_grid = [\n",
    "    {'n_estimators': [3, 10, 30, 50, 100, 150, 200, 250], 'max_features': [2, 4, 6, 8, 10, 13]},\n",
    "    {'bootstrap': [False], 'n_estimators': [3, 10], 'max_features': [2, 4, 6, 8, 10, 13]},\n",
    "]\n",
    "\n",
    "forest_reg = RandomForestRegressor()\n",
    "\n",
    "grid_search = GridSearchCV(forest_reg, param_grid, cv=5,\n",
    "                           scoring='neg_mean_squared_error',\n",
    "                           return_train_score=True)\n",
    "\n",
    "grid_search.fit(X_train, y_train)"
   ]
  },
  {
   "cell_type": "code",
   "execution_count": 130,
   "metadata": {},
   "outputs": [
    {
     "name": "stdout",
     "output_type": "stream",
     "text": [
      "61.82300003504629 {'max_features': 2, 'n_estimators': 3}\n",
      "53.31428960053539 {'max_features': 2, 'n_estimators': 10}\n",
      "53.52439693329735 {'max_features': 2, 'n_estimators': 30}\n",
      "53.28582759000013 {'max_features': 2, 'n_estimators': 50}\n",
      "53.433564543431615 {'max_features': 2, 'n_estimators': 100}\n",
      "53.3113180915002 {'max_features': 2, 'n_estimators': 150}\n",
      "53.19588962951564 {'max_features': 2, 'n_estimators': 200}\n",
      "53.30033708903611 {'max_features': 2, 'n_estimators': 250}\n",
      "64.139546586442 {'max_features': 4, 'n_estimators': 3}\n",
      "55.90376012703853 {'max_features': 4, 'n_estimators': 10}\n",
      "53.826288427503144 {'max_features': 4, 'n_estimators': 30}\n",
      "52.52770596459014 {'max_features': 4, 'n_estimators': 50}\n",
      "53.1438416142867 {'max_features': 4, 'n_estimators': 100}\n",
      "52.75302280605493 {'max_features': 4, 'n_estimators': 150}\n",
      "52.94083985994385 {'max_features': 4, 'n_estimators': 200}\n",
      "53.00499703410393 {'max_features': 4, 'n_estimators': 250}\n",
      "59.70883224194287 {'max_features': 6, 'n_estimators': 3}\n",
      "53.63937595124522 {'max_features': 6, 'n_estimators': 10}\n",
      "52.3748357649856 {'max_features': 6, 'n_estimators': 30}\n",
      "52.842135072538376 {'max_features': 6, 'n_estimators': 50}\n",
      "53.07572400216184 {'max_features': 6, 'n_estimators': 100}\n",
      "53.048315190776286 {'max_features': 6, 'n_estimators': 150}\n",
      "52.8812332758455 {'max_features': 6, 'n_estimators': 200}\n",
      "52.82673588804598 {'max_features': 6, 'n_estimators': 250}\n",
      "62.77851493679487 {'max_features': 8, 'n_estimators': 3}\n",
      "54.650059413530734 {'max_features': 8, 'n_estimators': 10}\n",
      "53.44354726159594 {'max_features': 8, 'n_estimators': 30}\n",
      "53.957516192450306 {'max_features': 8, 'n_estimators': 50}\n",
      "53.1605375627769 {'max_features': 8, 'n_estimators': 100}\n",
      "53.168242139666624 {'max_features': 8, 'n_estimators': 150}\n",
      "52.85278512603917 {'max_features': 8, 'n_estimators': 200}\n",
      "53.08315063939666 {'max_features': 8, 'n_estimators': 250}\n",
      "63.737305447367774 {'max_features': 10, 'n_estimators': 3}\n",
      "54.54292922138286 {'max_features': 10, 'n_estimators': 10}\n",
      "53.481813418499236 {'max_features': 10, 'n_estimators': 30}\n",
      "53.786324549429715 {'max_features': 10, 'n_estimators': 50}\n",
      "53.65827161589234 {'max_features': 10, 'n_estimators': 100}\n",
      "53.35979224651072 {'max_features': 10, 'n_estimators': 150}\n",
      "53.23700887849794 {'max_features': 10, 'n_estimators': 200}\n",
      "53.15800828592837 {'max_features': 10, 'n_estimators': 250}\n",
      "60.11479533264818 {'max_features': 13, 'n_estimators': 3}\n",
      "56.46386444271131 {'max_features': 13, 'n_estimators': 10}\n",
      "54.706120256292486 {'max_features': 13, 'n_estimators': 30}\n",
      "53.93153812824226 {'max_features': 13, 'n_estimators': 50}\n",
      "53.61270265217686 {'max_features': 13, 'n_estimators': 100}\n",
      "53.80702910932563 {'max_features': 13, 'n_estimators': 150}\n",
      "53.56912825624611 {'max_features': 13, 'n_estimators': 200}\n",
      "53.395227126611594 {'max_features': 13, 'n_estimators': 250}\n",
      "62.0107162475914 {'bootstrap': False, 'max_features': 2, 'n_estimators': 3}\n",
      "56.007246917850495 {'bootstrap': False, 'max_features': 2, 'n_estimators': 10}\n",
      "59.83870313562895 {'bootstrap': False, 'max_features': 4, 'n_estimators': 3}\n",
      "56.328704288570925 {'bootstrap': False, 'max_features': 4, 'n_estimators': 10}\n",
      "61.835157644071785 {'bootstrap': False, 'max_features': 6, 'n_estimators': 3}\n",
      "57.44574959334645 {'bootstrap': False, 'max_features': 6, 'n_estimators': 10}\n",
      "64.22568555988215 {'bootstrap': False, 'max_features': 8, 'n_estimators': 3}\n",
      "57.95133287256918 {'bootstrap': False, 'max_features': 8, 'n_estimators': 10}\n",
      "65.57903959043878 {'bootstrap': False, 'max_features': 10, 'n_estimators': 3}\n",
      "61.480060717712846 {'bootstrap': False, 'max_features': 10, 'n_estimators': 10}\n",
      "70.23246822870412 {'bootstrap': False, 'max_features': 13, 'n_estimators': 3}\n",
      "70.84169744974336 {'bootstrap': False, 'max_features': 13, 'n_estimators': 10}\n",
      "\n",
      "\n",
      "\n",
      "Best estimator\n",
      "49.424004243368024\n"
     ]
    }
   ],
   "source": [
    "#grid_search.best_params_\n",
    "#grid_search.best_estimator_\n",
    "\n",
    "cvres = grid_search.cv_results_\n",
    "for mean_score, params in zip(cvres[\"mean_test_score\"], cvres[\"params\"]):\n",
    "    print(np.sqrt(-mean_score), params)\n",
    "    \n",
    "print('\\n\\n')\n",
    "print('Best estimator')\n",
    "model = grid_search.best_estimator_\n",
    "y_pred = model.predict(X_test)\n",
    "lin_mse = mean_squared_error(y_test, y_pred)\n",
    "lin_rmse = np.sqrt(lin_mse)\n",
    "print(lin_rmse)"
   ]
  },
  {
   "cell_type": "code",
   "execution_count": 131,
   "metadata": {},
   "outputs": [
    {
     "data": {
      "text/plain": [
       "[(0.28868500101460043, 'Glucose0H'),\n",
       " (0.10272680896691731, 'Glucose-2H'),\n",
       " (0.10150467440845232, 'Glucose-1H'),\n",
       " (0.08483728009922496, 'Glucose-3H'),\n",
       " (0.08387208547797444, 'Glucose-4H'),\n",
       " (0.07510739309551077, 'Month'),\n",
       " (0.07145467882430415, 'Day'),\n",
       " (0.05522026487198081, 'Rapide'),\n",
       " (0.04938651867285796, 'Hour'),\n",
       " (0.04292402316457793, 'DayOfWeek'),\n",
       " (0.027696090024467376, 'Lente'),\n",
       " (0.01658518137913163, 'RepasType'),\n",
       " (0.0, 'Year')]"
      ]
     },
     "execution_count": 131,
     "metadata": {},
     "output_type": "execute_result"
    }
   ],
   "source": [
    "feature_importances = grid_search.best_estimator_.feature_importances_\n",
    "feature_importances\n",
    "\n",
    "sorted(zip(feature_importances, attributes), reverse=True)"
   ]
  },
  {
   "cell_type": "code",
   "execution_count": 132,
   "metadata": {},
   "outputs": [
    {
     "name": "stdout",
     "output_type": "stream",
     "text": [
      "49.424004243368024\n"
     ]
    }
   ],
   "source": [
    "y_pred = model.predict(X_test)\n",
    "final_mse = mean_squared_error(y_test, y_pred) \n",
    "final_rmse = np.sqrt(final_mse) # => evaluates to 49.16\n",
    "print(final_rmse)"
   ]
  },
  {
   "cell_type": "code",
   "execution_count": null,
   "metadata": {},
   "outputs": [],
   "source": []
  }
 ],
 "metadata": {
  "kernelspec": {
   "display_name": "Python 3",
   "language": "python",
   "name": "python3"
  },
  "language_info": {
   "codemirror_mode": {
    "name": "ipython",
    "version": 3
   },
   "file_extension": ".py",
   "mimetype": "text/x-python",
   "name": "python",
   "nbconvert_exporter": "python",
   "pygments_lexer": "ipython3",
   "version": "3.7.3"
  }
 },
 "nbformat": 4,
 "nbformat_minor": 4
}
